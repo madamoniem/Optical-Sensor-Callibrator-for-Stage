{
 "cells": [
  {
   "cell_type": "code",
   "execution_count": 1,
   "metadata": {},
   "outputs": [],
   "source": [
    "import numpy as np\n",
    "from main import ArduinoReader\n",
    "from motion_stages import Zaber_2axis_LST1500D as motion_stage\n",
    "import time\n",
    "import pandas\n",
    "import matplotlib.pyplot as plt\n",
    "import seaborn as sns"
   ]
  },
  {
   "cell_type": "code",
   "execution_count": 2,
   "metadata": {},
   "outputs": [],
   "source": [
    "# initialize stage instance and zero axes\n",
    "stage = motion_stage()\n",
    "stage.home_axes()\n",
    "\n",
    "# initialize ArduinoReader\n",
    "arduino = ArduinoReader('COM7', 9600)  # replace with your port "
   ]
  },
  {
   "cell_type": "code",
   "execution_count": 3,
   "metadata": {},
   "outputs": [],
   "source": [
    "x_center = 800.0  # in mm\n",
    "y_center = 430.0  # in mm\n",
    "stage.move_x_absolute(x_center)\n",
    "stage.move_y_absolute(y_center)"
   ]
  },
  {
   "cell_type": "code",
   "execution_count": 6,
   "metadata": {},
   "outputs": [
    {
     "name": "stdout",
     "output_type": "stream",
     "text": [
      "Calibration factor for X: -0.022084805653710248\n",
      "Calibration factor for Y: -0.020004000800160033\n",
      "Calibration factor for X: -0.022153300841825433\n",
      "Calibration factor for Y: -0.020300446609825416\n",
      "Calibration factor for X: -0.02212878955521133\n",
      "Calibration factor for Y: -0.020292207792207792\n",
      "Calibration factor for X: -0.021963540522732264\n",
      "Calibration factor for Y: -0.02087246921310791\n",
      "Calibration factor for X: -0.021925016443762334\n",
      "Calibration factor for Y: -0.02012072434607646\n",
      "Calibration factor for X: -0.02208968411751712\n",
      "Calibration factor for Y: -0.020181634712411706\n",
      "Calibration factor for X: -0.022311468094600623\n",
      "Calibration factor for Y: -0.02\n",
      "Calibration factor for X: -0.02201188641866608\n",
      "Calibration factor for Y: -0.020938023450586266\n",
      "Calibration factor for X: -0.0221483942414175\n",
      "Calibration factor for Y: -0.019825535289452814\n",
      "Calibration factor for X: 0.0057670126874279125\n",
      "Calibration factor for Y: 0.02617115938236064\n"
     ]
    }
   ],
   "source": [
    "calibration_distance = 100.0  # in mm\n",
    "\n",
    "N_iterations = 10\n",
    "calibration_results = []\n",
    "\n",
    "for i in range(N_iterations):\n",
    "    stage.move_x_absolute(x_center)\n",
    "    stage.move_y_absolute(y_center)\n",
    "    time.sleep(5)\n",
    "\n",
    "    # Record initial sensor readings\n",
    "    initial_sensor_x, initial_sensor_y = arduino.distanceSinceInit()\n",
    "\n",
    "    # Move the stage\n",
    "    stage.move_x_absolute(x_center - calibration_distance)\n",
    "    stage.move_y_absolute(y_center - calibration_distance)\n",
    "    time.sleep(5)\n",
    "\n",
    "    # Record sensor readings after moving\n",
    "    final_sensor_x, final_sensor_y = arduino.distanceSinceInit()\n",
    "\n",
    "    # Calculate the sensor's reported movement\n",
    "    sensor_movement_x = final_sensor_x - initial_sensor_x\n",
    "    sensor_movement_y = final_sensor_y - initial_sensor_y\n",
    "\n",
    "    # Calculate calibration factors\n",
    "    calibration_factor_x = calibration_distance / sensor_movement_x\n",
    "    calibration_factor_y = calibration_distance / sensor_movement_y\n",
    "\n",
    "    # Print calibration factors\n",
    "    print(f\"Iteration {i+1} - Calibration factor for X: {calibration_factor_x}\")\n",
    "    print(f\"Iteration {i+1} - Calibration factor for Y: {calibration_factor_y}\")\n",
    "\n",
    "    calibration_results.append({\n",
    "        'Iteration': i+1,\n",
    "        'Calibration_Factor_X': calibration_factor_x,\n",
    "        'Calibration_Factor_Y': calibration_factor_y,\n",
    "        'Sensor_Movement_X': sensor_movement_x,\n",
    "        'Sensor_Movement_Y': sensor_movement_y,\n",
    "        'Calibration_Distance': calibration_distance\n",
    "    })\n",
    "\n",
    "# Convert the list of dictionaries to a DataFrame\n",
    "df = pd.DataFrame(calibration_results)\n",
    "\n",
    "# Append the dataframe to the existing CSV file\n",
    "with open('calibration_script_results.csv', 'a') as f:\n",
    "    df.to_csv(f, header=f.tell()==0, index=False)\n",
    "\n",
    "# Scatter plot of Calibration Factors X and Y over the iterations\n",
    "plt.figure(figsize=(12, 6))\n",
    "\n",
    "plt.subplot(1, 2, 1)\n",
    "sns.scatterplot(data=df, x=\"Iteration\", y=\"Calibration_Factor_X\", color='r')\n",
    "plt.title('Calibration Factor X over Iterations')\n",
    "\n",
    "plt.subplot(1, 2, 2)\n",
    "sns.scatterplot(data=df, x=\"Iteration\", y=\"Calibration_Factor_Y\", color='b')\n",
    "plt.title('Calibration Factor Y over Iterations')\n",
    "\n",
    "plt.tight_layout()\n",
    "plt.show()\n",
    "\n",
    "# Print out descriptive statistics of the calibration factors\n",
    "print(\"\\nDescriptive statistics for Calibration Factor X:\")\n",
    "print(df['Calibration_Factor_X'].describe())\n",
    "print(\"\\nDescriptive statistics for Calibration Factor Y:\")\n",
    "print(df['Calibration_Factor_Y'].describe())\n",
    "\n",
    "# cleanup\n",
    "arduino.stop()"
   ]
  }
 ],
 "metadata": {
  "kernelspec": {
   "display_name": "base",
   "language": "python",
   "name": "python3"
  },
  "language_info": {
   "codemirror_mode": {
    "name": "ipython",
    "version": 3
   },
   "file_extension": ".py",
   "mimetype": "text/x-python",
   "name": "python",
   "nbconvert_exporter": "python",
   "pygments_lexer": "ipython3",
   "version": "3.7.6"
  },
  "orig_nbformat": 4
 },
 "nbformat": 4,
 "nbformat_minor": 2
}
